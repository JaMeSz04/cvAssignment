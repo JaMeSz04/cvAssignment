{
 "cells": [
  {
   "cell_type": "code",
   "execution_count": 1,
   "metadata": {
    "collapsed": true
   },
   "outputs": [],
   "source": [
    "import cv2\n",
    "import numpy as np\n",
    "from tqdm import tqdm\n",
    "import math"
   ]
  },
  {
   "cell_type": "code",
   "execution_count": 2,
   "metadata": {
    "collapsed": true
   },
   "outputs": [],
   "source": [
    "img = cv2.imread('./minute_example/Input.jpg',cv2.IMREAD_GRAYSCALE)"
   ]
  },
  {
   "cell_type": "code",
   "execution_count": 3,
   "metadata": {
    "collapsed": true
   },
   "outputs": [],
   "source": [
    "ret,img = cv2.threshold(img,127,255,cv2.THRESH_BINARY)\n",
    "img = cv2.copyMakeBorder(img,1,1,1,1,cv2.BORDER_CONSTANT,value = 50)"
   ]
  },
  {
   "cell_type": "code",
   "execution_count": 4,
   "metadata": {
    "collapsed": true
   },
   "outputs": [],
   "source": [
    "row,col = img.shape"
   ]
  },
  {
   "cell_type": "code",
   "execution_count": 5,
   "metadata": {
    "collapsed": true
   },
   "outputs": [],
   "source": [
    "offset = [(-1, -1), (-1, 0), (-1, 1), (0, 1), (1, 1), (1, 0), (1, -1), (0, -1), (-1, -1)]"
   ]
  },
  {
   "cell_type": "code",
   "execution_count": 6,
   "metadata": {},
   "outputs": [
    {
     "name": "stderr",
     "output_type": "stream",
     "text": [
      "100%|██████████| 562/562 [00:01<00:00, 518.09it/s]\n"
     ]
    }
   ],
   "source": [
    "crossingCount = 0\n",
    "mnPoints1 = []\n",
    "mnPoints3 = []\n",
    "mnPoints4 = []\n",
    "for x in tqdm(range (row)):\n",
    "    for y in range (col):\n",
    "        if(img[x,y]==0):\n",
    "            values = []\n",
    "            for offsetX, offsetY in offset:\n",
    "                values.append(img[x+offsetX,y+offsetY])   \n",
    "            for nb in range(0,8):\n",
    "                if(int(values[nb]) + int(values[nb+1])==255 ):\n",
    "                    crossingCount +=1\n",
    "            crossingCount /= 2\n",
    "            if (crossingCount ==3 ):\n",
    "                mnPoints3.append((x,y))\n",
    "            elif (crossingCount ==1 ):\n",
    "                #print(values)\n",
    "                mnPoints1.append((x,y))\n",
    "            elif (crossingCount ==4 ):\n",
    "                mnPoints4.append((x,y))\n",
    "           # print crossingCount\n",
    "            crossingCount = 0"
   ]
  },
  {
   "cell_type": "code",
   "execution_count": 7,
   "metadata": {
    "collapsed": true
   },
   "outputs": [],
   "source": [
    "mnPoints = mnPoints1+mnPoints3"
   ]
  },
  {
   "cell_type": "code",
   "execution_count": 8,
   "metadata": {
    "collapsed": true
   },
   "outputs": [],
   "source": [
    "rgbImg = cv2.cvtColor(img,cv2.COLOR_GRAY2RGB)"
   ]
  },
  {
   "cell_type": "code",
   "execution_count": 9,
   "metadata": {
    "collapsed": true
   },
   "outputs": [],
   "source": [
    "someMn = []\n",
    "for coor in mnPoints:\n",
    "    x = coor[0]\n",
    "    y = coor[1]\n",
    "    cMn1,cMn2,cMn3,cMn4 = False,False,False,False\n",
    "    \n",
    "    for xinter in range(x+1,row-1):\n",
    "        if(img[xinter,y]==0):\n",
    "            cMn1=True\n",
    "    for xinter in range(x-1,0,-1):\n",
    "        if(img[xinter,y]==0):\n",
    "            cMn2=True\n",
    "    \n",
    "    for yinter in range(y+1,col-1):\n",
    "        if(img[x,yinter]==0):\n",
    "            cMn3=True\n",
    "    for yinter in range(y-1,0,-1):\n",
    "        if(img[x,yinter]==0):\n",
    "            cMn4=True\n",
    "    if(cMn1 and cMn2 and cMn3 and cMn4):\n",
    "        someMn.append((x,y))"
   ]
  },
  {
   "cell_type": "code",
   "execution_count": 10,
   "metadata": {
    "collapsed": true
   },
   "outputs": [],
   "source": [
    "for coor in someMn:\n",
    "    for x in range (-5,5):\n",
    "        rgbImg[coor[0]+x,coor[1]] = (0,0,255) \n",
    "    for y in range (-5,5):\n",
    "        rgbImg[coor[0],coor[1]+y] = (0,0,255)"
   ]
  },
  {
   "cell_type": "code",
   "execution_count": 11,
   "metadata": {
    "collapsed": true
   },
   "outputs": [],
   "source": [
    "allPoints = cv2.cvtColor(img,cv2.COLOR_GRAY2RGB)"
   ]
  },
  {
   "cell_type": "code",
   "execution_count": 12,
   "metadata": {
    "collapsed": true
   },
   "outputs": [],
   "source": [
    "for coor in mnPoints1:\n",
    "    for x in range (-5,5):\n",
    "        allPoints[coor[0]+x,coor[1]] = (0,0,255) \n",
    "    for y in range (-5,5):\n",
    "        allPoints[coor[0],coor[1]+y] = (0,0,255)\n",
    "for coor in mnPoints3:\n",
    "    for x in range (-5,5):\n",
    "        allPoints[coor[0]+x,coor[1]] = (255,0,0) \n",
    "    for y in range (-5,5):\n",
    "        allPoints[coor[0],coor[1]+y] = (255,0,0)"
   ]
  },
  {
   "cell_type": "code",
   "execution_count": 13,
   "metadata": {},
   "outputs": [
    {
     "data": {
      "text/plain": [
       "True"
      ]
     },
     "execution_count": 13,
     "metadata": {},
     "output_type": "execute_result"
    }
   ],
   "source": [
    "cv2.imwrite(\"./minute_example/Output.jpg\",rgbImg)"
   ]
  },
  {
   "cell_type": "code",
   "execution_count": null,
   "metadata": {},
   "outputs": [],
   "source": [
    "cv2.imshow('imgCross',rgbImg)\n",
    "cv2.imshow('allCross',allPoints)\n",
    "cv2.imshow('original',img)\n",
    "cv2.waitKey()"
   ]
  },
  {
   "cell_type": "code",
   "execution_count": null,
   "metadata": {
    "collapsed": true
   },
   "outputs": [],
   "source": [
    ""
   ]
  }
 ],
 "metadata": {
  "kernelspec": {
   "display_name": "Python 2",
   "language": "python",
   "name": "python2"
  },
  "language_info": {
   "codemirror_mode": {
    "name": "ipython",
    "version": 2.0
   },
   "file_extension": ".py",
   "mimetype": "text/x-python",
   "name": "python",
   "nbconvert_exporter": "python",
   "pygments_lexer": "ipython2",
   "version": "2.7.13"
  }
 },
 "nbformat": 4,
 "nbformat_minor": 0
}